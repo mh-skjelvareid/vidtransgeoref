{
 "cells": [
  {
   "cell_type": "code",
   "execution_count": null,
   "metadata": {},
   "outputs": [],
   "source": [
    "import subprocess"
   ]
  },
  {
   "cell_type": "markdown",
   "metadata": {},
   "source": [
    "# Research\n",
    "\n",
    "[Exiftool](https://exiftool.org/geotag.html) already has some sophisicated functionality\n",
    "for geotagging photos. Notes\n",
    "\n",
    "- Supports some GPS log formats \"out of the box\", including GPX, NMEA, and KML, but it's also\n",
    "  possible to define a custom CSV file (with specific header names). See exiftool [CSV\n",
    "  format](exiftool.org/geotag.html#CSVFormat). \"Required columns are GPSDateTime (or\n",
    "  GPSDateStamp and GPSTimeStamp), GPSLatitude and GPSLongitude. All other columns are\n",
    "  optional, and unrecognized columns are ignored.\"\n",
    "- The geotagging is based on having images that already are correctly timestamped (in\n",
    "  EXIF metadata). Positions for a given image time are then linearly interpolated from\n",
    "  the time-posision pairs in the CSV file. In my case (extracting images from video) I\n",
    "  may have to manually write the time to the EXIF metadata first. There are many\n",
    "  time-related tags. \"When extracting from file, timestamps are taken from the first\n",
    "  available of the following tags: Image timestamp: SubSecDateTimeOriginal,\n",
    "  SubSecCreateDate, SubSecModifyDate, DateTimeOriginal, CreateDate, ModifyDate,\n",
    "  FileModifyDate\"\n",
    "- Setting e.g. SubSecDateTimeOriginal is probably best achieved with\n",
    "  pyexiftool.PyExifToolHelper.set_tags() (see\n",
    "  [docs](https://sylikc.github.io/pyexiftool/examples.html#setting-tags))"
   ]
  },
  {
   "cell_type": "markdown",
   "metadata": {},
   "source": [
    "# Review of code for extracting images from video\n",
    "\n",
    "Considering building a separate python package for extraction of images from video\n",
    "transects. The code developed so far is based on some different data sources:\n",
    "\n",
    "Image data:\n",
    "- Video from GoPro\n",
    "- \"Time lapse\" images from GoPro\n",
    "\n",
    "GPS tracks:\n",
    "- Trimble Catalyst + GPS logger -> CSV (time in local time?), GPX, NMEA(?)\n",
    "- Otter -> NMEA (original), CSV (processed)\n",
    "- \"Skippo\" GPS track from mobile phone (Smøla) (?)\n",
    "\n",
    "The general workflow is as follows:\n",
    "- List / search for GPS track CSV file\n",
    "- List / search for video files\n",
    "- Use get_video_data() to get video data organized as Pandas dataframe. The function accepts time zone information.\n",
    "- Use xxx_csv_to_geodataframe() to get all CSV positions (where \"xxx\" represents\n",
    "  variations; \"otter\", \"track\", \"yx\") and return data as geodataframe. This can be very\n",
    "  densely sampled (tens of samples per second for Otter) or less densely sampled.\n",
    "- Reduce the number of data points by spatial filtering using filter_gdf_on_distance()\n",
    "- Cryptically \"prepare_gdf_with_video_data\", doing many things that probably could be\n",
    "  split into multiple functions: Excluding points outside video window. Adding video\n",
    "  file and relative time within video for each point. \n",
    "- Finally, using extract_images_from_video() to both extract images from video and save\n",
    "  the corresponding position in a GeoPackage file. **This function could be changed to\n",
    "  extract the image and save the position data as an EXIF tag instead**.\n",
    "\n",
    "The code works, but \"smells\" a bit (according to my new preferences, at least). \n",
    "\n",
    "THe geodataframe format was chosen because it seemed like a good match with reading a\n",
    "CSV file with positions and writing a GPKG file with points. However, a workflow where\n",
    "the dataframe is continuously expanded and modified seems a bit clunky. Or? Does it just\n",
    "feel like it because I'm not used to it?"
   ]
  },
  {
   "cell_type": "markdown",
   "metadata": {},
   "source": [
    "# Pros / cons of switching to geotagged photos\n",
    "Pros:\n",
    "- Each photo is a self-contained \"unit\". No need to distribute separate file with\n",
    "  positions.\n",
    "- Import of geotagged photos supported by GIS software (but not e.g. Google Earth).\n",
    "\n",
    "Cons:\n",
    "- More work!\n",
    "- Users end up with something similar to the geopackage file anyway - so there's not\n",
    "  much gained in the end."
   ]
  },
  {
   "cell_type": "markdown",
   "metadata": {},
   "source": [
    "# Code refactoring alternatives\n",
    "- Introduce typing\n",
    "- Split into smaller functions with single responsibilities\n",
    "- Using OOP? If there's any reason to.\n",
    "- Try to generalize data formats\n",
    "- Consider alterantives to Pandas data structures."
   ]
  }
 ],
 "metadata": {
  "kernelspec": {
   "display_name": "vidtransgeoref",
   "language": "python",
   "name": "python3"
  },
  "language_info": {
   "name": "python",
   "version": "3.10.15"
  }
 },
 "nbformat": 4,
 "nbformat_minor": 2
}
